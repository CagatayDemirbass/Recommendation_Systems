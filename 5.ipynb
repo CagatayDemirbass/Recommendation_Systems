{
 "cells": [
  {
   "cell_type": "code",
   "execution_count": 5,
   "metadata": {},
   "outputs": [
    {
     "data": {
      "text/html": [
       "<div>\n",
       "<style scoped>\n",
       "    .dataframe tbody tr th:only-of-type {\n",
       "        vertical-align: middle;\n",
       "    }\n",
       "\n",
       "    .dataframe tbody tr th {\n",
       "        vertical-align: top;\n",
       "    }\n",
       "\n",
       "    .dataframe thead th {\n",
       "        text-align: right;\n",
       "    }\n",
       "</style>\n",
       "<table border=\"1\" class=\"dataframe\">\n",
       "  <thead>\n",
       "    <tr style=\"text-align: right;\">\n",
       "      <th></th>\n",
       "      <th>movieId</th>\n",
       "      <th>title</th>\n",
       "      <th>genres</th>\n",
       "      <th>userId</th>\n",
       "      <th>rating</th>\n",
       "      <th>timestamp</th>\n",
       "    </tr>\n",
       "  </thead>\n",
       "  <tbody>\n",
       "    <tr>\n",
       "      <th>0</th>\n",
       "      <td>1</td>\n",
       "      <td>Toy Story (1995)</td>\n",
       "      <td>Adventure|Animation|Children|Comedy|Fantasy</td>\n",
       "      <td>3.0</td>\n",
       "      <td>4.0</td>\n",
       "      <td>9.449194e+08</td>\n",
       "    </tr>\n",
       "    <tr>\n",
       "      <th>1</th>\n",
       "      <td>1</td>\n",
       "      <td>Toy Story (1995)</td>\n",
       "      <td>Adventure|Animation|Children|Comedy|Fantasy</td>\n",
       "      <td>6.0</td>\n",
       "      <td>5.0</td>\n",
       "      <td>8.582755e+08</td>\n",
       "    </tr>\n",
       "    <tr>\n",
       "      <th>2</th>\n",
       "      <td>1</td>\n",
       "      <td>Toy Story (1995)</td>\n",
       "      <td>Adventure|Animation|Children|Comedy|Fantasy</td>\n",
       "      <td>8.0</td>\n",
       "      <td>4.0</td>\n",
       "      <td>8.339819e+08</td>\n",
       "    </tr>\n",
       "    <tr>\n",
       "      <th>3</th>\n",
       "      <td>1</td>\n",
       "      <td>Toy Story (1995)</td>\n",
       "      <td>Adventure|Animation|Children|Comedy|Fantasy</td>\n",
       "      <td>10.0</td>\n",
       "      <td>4.0</td>\n",
       "      <td>9.434979e+08</td>\n",
       "    </tr>\n",
       "    <tr>\n",
       "      <th>4</th>\n",
       "      <td>1</td>\n",
       "      <td>Toy Story (1995)</td>\n",
       "      <td>Adventure|Animation|Children|Comedy|Fantasy</td>\n",
       "      <td>11.0</td>\n",
       "      <td>4.5</td>\n",
       "      <td>1.230859e+09</td>\n",
       "    </tr>\n",
       "  </tbody>\n",
       "</table>\n",
       "</div>"
      ],
      "text/plain": [
       "   movieId             title                                       genres  \\\n",
       "0        1  Toy Story (1995)  Adventure|Animation|Children|Comedy|Fantasy   \n",
       "1        1  Toy Story (1995)  Adventure|Animation|Children|Comedy|Fantasy   \n",
       "2        1  Toy Story (1995)  Adventure|Animation|Children|Comedy|Fantasy   \n",
       "3        1  Toy Story (1995)  Adventure|Animation|Children|Comedy|Fantasy   \n",
       "4        1  Toy Story (1995)  Adventure|Animation|Children|Comedy|Fantasy   \n",
       "\n",
       "   userId  rating     timestamp  \n",
       "0     3.0     4.0  9.449194e+08  \n",
       "1     6.0     5.0  8.582755e+08  \n",
       "2     8.0     4.0  8.339819e+08  \n",
       "3    10.0     4.0  9.434979e+08  \n",
       "4    11.0     4.5  1.230859e+09  "
      ]
     },
     "execution_count": 5,
     "metadata": {},
     "output_type": "execute_result"
    }
   ],
   "source": [
    "import pandas as pd\n",
    "from surprise import Reader, SVD, Dataset, accuracy\n",
    "from surprise.model_selection import train_test_split,GridSearchCV,cross_validate\n",
    "movie = pd.read_csv(\"movies.csv\")\n",
    "rating = pd.read_csv(\"ratings.csv\")\n",
    "df = pd.merge(movie, rating,how=\"left\",on=\"movieId\")\n",
    "df.head()"
   ]
  },
  {
   "cell_type": "code",
   "execution_count": 6,
   "metadata": {},
   "outputs": [
    {
     "data": {
      "text/html": [
       "<div>\n",
       "<style scoped>\n",
       "    .dataframe tbody tr th:only-of-type {\n",
       "        vertical-align: middle;\n",
       "    }\n",
       "\n",
       "    .dataframe tbody tr th {\n",
       "        vertical-align: top;\n",
       "    }\n",
       "\n",
       "    .dataframe thead th {\n",
       "        text-align: right;\n",
       "    }\n",
       "</style>\n",
       "<table border=\"1\" class=\"dataframe\">\n",
       "  <thead>\n",
       "    <tr style=\"text-align: right;\">\n",
       "      <th></th>\n",
       "      <th>movieId</th>\n",
       "      <th>title</th>\n",
       "      <th>genres</th>\n",
       "      <th>userId</th>\n",
       "      <th>rating</th>\n",
       "      <th>timestamp</th>\n",
       "    </tr>\n",
       "  </thead>\n",
       "  <tbody>\n",
       "    <tr>\n",
       "      <th>2457839</th>\n",
       "      <td>356</td>\n",
       "      <td>Forrest Gump (1994)</td>\n",
       "      <td>Comedy|Drama|Romance|War</td>\n",
       "      <td>4.0</td>\n",
       "      <td>4.0</td>\n",
       "      <td>8.408789e+08</td>\n",
       "    </tr>\n",
       "    <tr>\n",
       "      <th>2457840</th>\n",
       "      <td>356</td>\n",
       "      <td>Forrest Gump (1994)</td>\n",
       "      <td>Comedy|Drama|Romance|War</td>\n",
       "      <td>7.0</td>\n",
       "      <td>4.0</td>\n",
       "      <td>1.011208e+09</td>\n",
       "    </tr>\n",
       "    <tr>\n",
       "      <th>2457841</th>\n",
       "      <td>356</td>\n",
       "      <td>Forrest Gump (1994)</td>\n",
       "      <td>Comedy|Drama|Romance|War</td>\n",
       "      <td>8.0</td>\n",
       "      <td>5.0</td>\n",
       "      <td>8.339823e+08</td>\n",
       "    </tr>\n",
       "    <tr>\n",
       "      <th>2457842</th>\n",
       "      <td>356</td>\n",
       "      <td>Forrest Gump (1994)</td>\n",
       "      <td>Comedy|Drama|Romance|War</td>\n",
       "      <td>9.0</td>\n",
       "      <td>4.0</td>\n",
       "      <td>9.940192e+08</td>\n",
       "    </tr>\n",
       "    <tr>\n",
       "      <th>2457843</th>\n",
       "      <td>356</td>\n",
       "      <td>Forrest Gump (1994)</td>\n",
       "      <td>Comedy|Drama|Romance|War</td>\n",
       "      <td>10.0</td>\n",
       "      <td>3.0</td>\n",
       "      <td>9.434971e+08</td>\n",
       "    </tr>\n",
       "    <tr>\n",
       "      <th>...</th>\n",
       "      <td>...</td>\n",
       "      <td>...</td>\n",
       "      <td>...</td>\n",
       "      <td>...</td>\n",
       "      <td>...</td>\n",
       "      <td>...</td>\n",
       "    </tr>\n",
       "    <tr>\n",
       "      <th>14742596</th>\n",
       "      <td>4422</td>\n",
       "      <td>Cries and Whispers (Viskningar och rop) (1972)</td>\n",
       "      <td>Drama</td>\n",
       "      <td>137665.0</td>\n",
       "      <td>5.0</td>\n",
       "      <td>1.015723e+09</td>\n",
       "    </tr>\n",
       "    <tr>\n",
       "      <th>14742597</th>\n",
       "      <td>4422</td>\n",
       "      <td>Cries and Whispers (Viskningar och rop) (1972)</td>\n",
       "      <td>Drama</td>\n",
       "      <td>137851.0</td>\n",
       "      <td>4.5</td>\n",
       "      <td>1.346153e+09</td>\n",
       "    </tr>\n",
       "    <tr>\n",
       "      <th>14742598</th>\n",
       "      <td>4422</td>\n",
       "      <td>Cries and Whispers (Viskningar och rop) (1972)</td>\n",
       "      <td>Drama</td>\n",
       "      <td>137904.0</td>\n",
       "      <td>3.5</td>\n",
       "      <td>1.169100e+09</td>\n",
       "    </tr>\n",
       "    <tr>\n",
       "      <th>14742599</th>\n",
       "      <td>4422</td>\n",
       "      <td>Cries and Whispers (Viskningar och rop) (1972)</td>\n",
       "      <td>Drama</td>\n",
       "      <td>138325.0</td>\n",
       "      <td>5.0</td>\n",
       "      <td>1.282957e+09</td>\n",
       "    </tr>\n",
       "    <tr>\n",
       "      <th>20000515</th>\n",
       "      <td>130219</td>\n",
       "      <td>The Dark Knight (2011)</td>\n",
       "      <td>Action|Crime|Drama|Thriller</td>\n",
       "      <td>1339.0</td>\n",
       "      <td>4.5</td>\n",
       "      <td>1.426852e+09</td>\n",
       "    </tr>\n",
       "  </tbody>\n",
       "</table>\n",
       "<p>97343 rows × 6 columns</p>\n",
       "</div>"
      ],
      "text/plain": [
       "          movieId                                           title  \\\n",
       "2457839       356                             Forrest Gump (1994)   \n",
       "2457840       356                             Forrest Gump (1994)   \n",
       "2457841       356                             Forrest Gump (1994)   \n",
       "2457842       356                             Forrest Gump (1994)   \n",
       "2457843       356                             Forrest Gump (1994)   \n",
       "...           ...                                             ...   \n",
       "14742596     4422  Cries and Whispers (Viskningar och rop) (1972)   \n",
       "14742597     4422  Cries and Whispers (Viskningar och rop) (1972)   \n",
       "14742598     4422  Cries and Whispers (Viskningar och rop) (1972)   \n",
       "14742599     4422  Cries and Whispers (Viskningar och rop) (1972)   \n",
       "20000515   130219                          The Dark Knight (2011)   \n",
       "\n",
       "                               genres    userId  rating     timestamp  \n",
       "2457839      Comedy|Drama|Romance|War       4.0     4.0  8.408789e+08  \n",
       "2457840      Comedy|Drama|Romance|War       7.0     4.0  1.011208e+09  \n",
       "2457841      Comedy|Drama|Romance|War       8.0     5.0  8.339823e+08  \n",
       "2457842      Comedy|Drama|Romance|War       9.0     4.0  9.940192e+08  \n",
       "2457843      Comedy|Drama|Romance|War      10.0     3.0  9.434971e+08  \n",
       "...                               ...       ...     ...           ...  \n",
       "14742596                        Drama  137665.0     5.0  1.015723e+09  \n",
       "14742597                        Drama  137851.0     4.5  1.346153e+09  \n",
       "14742598                        Drama  137904.0     3.5  1.169100e+09  \n",
       "14742599                        Drama  138325.0     5.0  1.282957e+09  \n",
       "20000515  Action|Crime|Drama|Thriller    1339.0     4.5  1.426852e+09  \n",
       "\n",
       "[97343 rows x 6 columns]"
      ]
     },
     "execution_count": 6,
     "metadata": {},
     "output_type": "execute_result"
    }
   ],
   "source": [
    "movie_ids = [130219,356,4422,541]\n",
    "movies= [\"The Dark Knight (2011)\",\n",
    "         \"Cries and Whispers (Viskningar och rop) (1972)\",\n",
    "         \"Forrest Gump (1994)\",\n",
    "         \"Blade Runner (1982)\"]\n",
    "\n",
    "sample_df = df.loc[df[\"movieId\"].isin(movie_ids)]\n",
    "sample_df"
   ]
  },
  {
   "cell_type": "code",
   "execution_count": 7,
   "metadata": {},
   "outputs": [
    {
     "data": {
      "text/html": [
       "<div>\n",
       "<style scoped>\n",
       "    .dataframe tbody tr th:only-of-type {\n",
       "        vertical-align: middle;\n",
       "    }\n",
       "\n",
       "    .dataframe tbody tr th {\n",
       "        vertical-align: top;\n",
       "    }\n",
       "\n",
       "    .dataframe thead th {\n",
       "        text-align: right;\n",
       "    }\n",
       "</style>\n",
       "<table border=\"1\" class=\"dataframe\">\n",
       "  <thead>\n",
       "    <tr style=\"text-align: right;\">\n",
       "      <th>movieId</th>\n",
       "      <th>356</th>\n",
       "      <th>541</th>\n",
       "      <th>4422</th>\n",
       "      <th>130219</th>\n",
       "    </tr>\n",
       "    <tr>\n",
       "      <th>userId</th>\n",
       "      <th></th>\n",
       "      <th></th>\n",
       "      <th></th>\n",
       "      <th></th>\n",
       "    </tr>\n",
       "  </thead>\n",
       "  <tbody>\n",
       "    <tr>\n",
       "      <th>1.0</th>\n",
       "      <td>NaN</td>\n",
       "      <td>4.0</td>\n",
       "      <td>NaN</td>\n",
       "      <td>NaN</td>\n",
       "    </tr>\n",
       "    <tr>\n",
       "      <th>2.0</th>\n",
       "      <td>NaN</td>\n",
       "      <td>5.0</td>\n",
       "      <td>NaN</td>\n",
       "      <td>NaN</td>\n",
       "    </tr>\n",
       "    <tr>\n",
       "      <th>3.0</th>\n",
       "      <td>NaN</td>\n",
       "      <td>5.0</td>\n",
       "      <td>NaN</td>\n",
       "      <td>NaN</td>\n",
       "    </tr>\n",
       "    <tr>\n",
       "      <th>4.0</th>\n",
       "      <td>4.0</td>\n",
       "      <td>NaN</td>\n",
       "      <td>NaN</td>\n",
       "      <td>NaN</td>\n",
       "    </tr>\n",
       "    <tr>\n",
       "      <th>7.0</th>\n",
       "      <td>4.0</td>\n",
       "      <td>NaN</td>\n",
       "      <td>NaN</td>\n",
       "      <td>NaN</td>\n",
       "    </tr>\n",
       "    <tr>\n",
       "      <th>...</th>\n",
       "      <td>...</td>\n",
       "      <td>...</td>\n",
       "      <td>...</td>\n",
       "      <td>...</td>\n",
       "    </tr>\n",
       "    <tr>\n",
       "      <th>138474.0</th>\n",
       "      <td>5.0</td>\n",
       "      <td>NaN</td>\n",
       "      <td>NaN</td>\n",
       "      <td>NaN</td>\n",
       "    </tr>\n",
       "    <tr>\n",
       "      <th>138483.0</th>\n",
       "      <td>4.0</td>\n",
       "      <td>4.0</td>\n",
       "      <td>NaN</td>\n",
       "      <td>NaN</td>\n",
       "    </tr>\n",
       "    <tr>\n",
       "      <th>138484.0</th>\n",
       "      <td>5.0</td>\n",
       "      <td>NaN</td>\n",
       "      <td>NaN</td>\n",
       "      <td>NaN</td>\n",
       "    </tr>\n",
       "    <tr>\n",
       "      <th>138486.0</th>\n",
       "      <td>5.0</td>\n",
       "      <td>NaN</td>\n",
       "      <td>NaN</td>\n",
       "      <td>NaN</td>\n",
       "    </tr>\n",
       "    <tr>\n",
       "      <th>138493.0</th>\n",
       "      <td>5.0</td>\n",
       "      <td>NaN</td>\n",
       "      <td>NaN</td>\n",
       "      <td>NaN</td>\n",
       "    </tr>\n",
       "  </tbody>\n",
       "</table>\n",
       "<p>76918 rows × 4 columns</p>\n",
       "</div>"
      ],
      "text/plain": [
       "movieId   356     541     4422    130219\n",
       "userId                                  \n",
       "1.0          NaN     4.0     NaN     NaN\n",
       "2.0          NaN     5.0     NaN     NaN\n",
       "3.0          NaN     5.0     NaN     NaN\n",
       "4.0          4.0     NaN     NaN     NaN\n",
       "7.0          4.0     NaN     NaN     NaN\n",
       "...          ...     ...     ...     ...\n",
       "138474.0     5.0     NaN     NaN     NaN\n",
       "138483.0     4.0     4.0     NaN     NaN\n",
       "138484.0     5.0     NaN     NaN     NaN\n",
       "138486.0     5.0     NaN     NaN     NaN\n",
       "138493.0     5.0     NaN     NaN     NaN\n",
       "\n",
       "[76918 rows x 4 columns]"
      ]
     },
     "execution_count": 7,
     "metadata": {},
     "output_type": "execute_result"
    }
   ],
   "source": [
    "user_movie_df = sample_df.pivot_table(index=\"userId\",columns=\"movieId\",values=\"rating\")\n",
    "user_movie_df"
   ]
  },
  {
   "cell_type": "code",
   "execution_count": 8,
   "metadata": {},
   "outputs": [],
   "source": [
    "reader = Reader(rating_scale=(1,5))"
   ]
  },
  {
   "cell_type": "code",
   "execution_count": 9,
   "metadata": {},
   "outputs": [
    {
     "data": {
      "text/plain": [
       "<surprise.dataset.DatasetAutoFolds at 0x163a39be950>"
      ]
     },
     "execution_count": 9,
     "metadata": {},
     "output_type": "execute_result"
    }
   ],
   "source": [
    "data = Dataset.load_from_df(sample_df[[\"userId\",\"movieId\",\"rating\"]],reader)\n",
    "data"
   ]
  },
  {
   "cell_type": "code",
   "execution_count": null,
   "metadata": {},
   "outputs": [],
   "source": [
    "train, test = train_test_split(data,test_size=.25)\n",
    "svd_model = SVD(n_factors=60)\n",
    "svd_model.fit(train)\n",
    "predictions = svd_model.test(test)\n",
    "predictions"
   ]
  },
  {
   "cell_type": "code",
   "execution_count": 37,
   "metadata": {},
   "outputs": [
    {
     "name": "stdout",
     "output_type": "stream",
     "text": [
      "RMSE: 0.9380\n"
     ]
    },
    {
     "data": {
      "text/plain": [
       "0.93799535220171"
      ]
     },
     "execution_count": 37,
     "metadata": {},
     "output_type": "execute_result"
    }
   ],
   "source": [
    "accuracy.rmse(predictions)"
   ]
  },
  {
   "cell_type": "code",
   "execution_count": 38,
   "metadata": {},
   "outputs": [
    {
     "name": "stdout",
     "output_type": "stream",
     "text": [
      "user: 40101.0    item: 356        r_ui = 2.00   est = 3.92   {'was_impossible': False}\n"
     ]
    },
    {
     "data": {
      "text/plain": [
       "Prediction(uid=40101.0, iid=356, r_ui=2, est=3.922437925389811, details={'was_impossible': False})"
      ]
     },
     "execution_count": 38,
     "metadata": {},
     "output_type": "execute_result"
    }
   ],
   "source": [
    "svd_model.predict(uid=40101.0,iid=356,verbose=True,r_ui=2)"
   ]
  },
  {
   "cell_type": "code",
   "execution_count": 39,
   "metadata": {},
   "outputs": [
    {
     "name": "stdout",
     "output_type": "stream",
     "text": [
      "user: 97368.0    item: 356        r_ui = None   est = 4.16   {'was_impossible': False}\n"
     ]
    },
    {
     "data": {
      "text/plain": [
       "Prediction(uid=97368.0, iid=356, r_ui=None, est=4.161252101433966, details={'was_impossible': False})"
      ]
     },
     "execution_count": 39,
     "metadata": {},
     "output_type": "execute_result"
    }
   ],
   "source": [
    "svd_model.predict(uid=97368.0,iid=356,verbose=True)"
   ]
  },
  {
   "cell_type": "code",
   "execution_count": 55,
   "metadata": {},
   "outputs": [
    {
     "name": "stderr",
     "output_type": "stream",
     "text": [
      "[Parallel(n_jobs=-1)]: Using backend LokyBackend with 16 concurrent workers.\n",
      "[Parallel(n_jobs=-1)]: Done  18 tasks      | elapsed:    3.6s\n",
      "[Parallel(n_jobs=-1)]: Done 180 out of 180 | elapsed:   20.4s finished\n"
     ]
    }
   ],
   "source": [
    "param_grid = {\"n_epochs\":[5,10,20],\n",
    "              \"lr_all\":[0.002,0.005,0.007],\n",
    "              \"n_factors\":[20,40,70,100]}\n",
    "gs = GridSearchCV(SVD,param_grid,measures=[\"rmse\",\"mae\"],cv=5,n_jobs=-1,joblib_verbose=True)\n",
    "gs.fit(data)"
   ]
  },
  {
   "cell_type": "code",
   "execution_count": 44,
   "metadata": {},
   "outputs": [
    {
     "data": {
      "text/plain": [
       "{'rmse': {'n_epochs': 5, 'lr_all': 0.005, 'n_factors': 20},\n",
       " 'mae': {'n_epochs': 5, 'lr_all': 0.007, 'n_factors': 20}}"
      ]
     },
     "execution_count": 44,
     "metadata": {},
     "output_type": "execute_result"
    }
   ],
   "source": [
    "gs.best_params"
   ]
  },
  {
   "cell_type": "code",
   "execution_count": 45,
   "metadata": {},
   "outputs": [
    {
     "data": {
      "text/plain": [
       "{'rmse': 0.9302532978927136, 'mae': 0.713294478912878}"
      ]
     },
     "execution_count": 45,
     "metadata": {},
     "output_type": "execute_result"
    }
   ],
   "source": [
    "gs.best_score"
   ]
  },
  {
   "cell_type": "code",
   "execution_count": 46,
   "metadata": {},
   "outputs": [
    {
     "data": {
      "text/plain": [
       "{'n_epochs': 5, 'lr_all': 0.005, 'n_factors': 20}"
      ]
     },
     "execution_count": 46,
     "metadata": {},
     "output_type": "execute_result"
    }
   ],
   "source": [
    "gs.best_params[\"rmse\"]"
   ]
  },
  {
   "cell_type": "code",
   "execution_count": null,
   "metadata": {},
   "outputs": [],
   "source": [
    "dir(SVD())"
   ]
  },
  {
   "cell_type": "code",
   "execution_count": 48,
   "metadata": {},
   "outputs": [
    {
     "data": {
      "text/plain": [
       "100"
      ]
     },
     "execution_count": 48,
     "metadata": {},
     "output_type": "execute_result"
    }
   ],
   "source": [
    "SVD().n_factors"
   ]
  },
  {
   "cell_type": "code",
   "execution_count": 56,
   "metadata": {},
   "outputs": [
    {
     "data": {
      "text/plain": [
       "<surprise.prediction_algorithms.matrix_factorization.SVD at 0x163c4bb7610>"
      ]
     },
     "execution_count": 56,
     "metadata": {},
     "output_type": "execute_result"
    }
   ],
   "source": [
    "svd_model = SVD(**gs.best_params[\"rmse\"]) \n",
    "data = data.build_full_trainset()\n",
    "svd_model.fit(data)"
   ]
  },
  {
   "cell_type": "code",
   "execution_count": 58,
   "metadata": {},
   "outputs": [
    {
     "name": "stdout",
     "output_type": "stream",
     "text": [
      "user: 40101.0    item: 356        r_ui = 2.00   est = 3.90   {'was_impossible': False}\n"
     ]
    },
    {
     "data": {
      "text/plain": [
       "Prediction(uid=40101.0, iid=356, r_ui=2, est=3.8954258430566813, details={'was_impossible': False})"
      ]
     },
     "execution_count": 58,
     "metadata": {},
     "output_type": "execute_result"
    }
   ],
   "source": [
    "pred=svd_model.predict(uid=40101.0,iid=356,verbose=True,r_ui=2)\n",
    "pred"
   ]
  },
  {
   "cell_type": "markdown",
   "metadata": {},
   "source": [
    "plus"
   ]
  },
  {
   "cell_type": "code",
   "execution_count": 61,
   "metadata": {},
   "outputs": [
    {
     "data": {
      "text/html": [
       "<div>\n",
       "<style scoped>\n",
       "    .dataframe tbody tr th:only-of-type {\n",
       "        vertical-align: middle;\n",
       "    }\n",
       "\n",
       "    .dataframe tbody tr th {\n",
       "        vertical-align: top;\n",
       "    }\n",
       "\n",
       "    .dataframe thead th {\n",
       "        text-align: right;\n",
       "    }\n",
       "</style>\n",
       "<table border=\"1\" class=\"dataframe\">\n",
       "  <thead>\n",
       "    <tr style=\"text-align: right;\">\n",
       "      <th></th>\n",
       "      <th>uid</th>\n",
       "      <th>iid</th>\n",
       "      <th>r_ui</th>\n",
       "      <th>est</th>\n",
       "    </tr>\n",
       "  </thead>\n",
       "  <tbody>\n",
       "    <tr>\n",
       "      <th>0</th>\n",
       "      <td>40101.0</td>\n",
       "      <td>356</td>\n",
       "      <td>2</td>\n",
       "      <td>3.895426</td>\n",
       "    </tr>\n",
       "  </tbody>\n",
       "</table>\n",
       "</div>"
      ],
      "text/plain": [
       "       uid  iid  r_ui       est\n",
       "0  40101.0  356     2  3.895426"
      ]
     },
     "execution_count": 61,
     "metadata": {},
     "output_type": "execute_result"
    }
   ],
   "source": [
    "pred_df = pd.DataFrame([{'uid': pred.uid, \n",
    "                         'iid': pred.iid, \n",
    "                         'r_ui': pred.r_ui, \n",
    "                         'est': pred.est, \n",
    "                         }])\n",
    "pred_df"
   ]
  },
  {
   "cell_type": "code",
   "execution_count": 66,
   "metadata": {},
   "outputs": [],
   "source": [
    "preds = []\n",
    "\n",
    "# Her bir kullanıcı ve öğe çifti için tahmin yap\n",
    "for uid, iid in zip(sample_df['userId'], sample_df['movieId']):\n",
    "    pred = svd_model.predict(uid, iid)\n",
    "    preds.append(pd.DataFrame({'uid': [pred.uid], \n",
    "                               'iid': [pred.iid], \n",
    "                               'r_ui': [pred.r_ui], \n",
    "                               'est': [pred.est], \n",
    "                               }))\n",
    "\n",
    "# Tüm tahminleri tek bir DataFrame'e birleştir\n",
    "pred_df = pd.concat(preds, ignore_index=True)"
   ]
  },
  {
   "cell_type": "code",
   "execution_count": null,
   "metadata": {},
   "outputs": [],
   "source": [
    "preds"
   ]
  },
  {
   "cell_type": "code",
   "execution_count": 67,
   "metadata": {},
   "outputs": [
    {
     "data": {
      "text/html": [
       "<div>\n",
       "<style scoped>\n",
       "    .dataframe tbody tr th:only-of-type {\n",
       "        vertical-align: middle;\n",
       "    }\n",
       "\n",
       "    .dataframe tbody tr th {\n",
       "        vertical-align: top;\n",
       "    }\n",
       "\n",
       "    .dataframe thead th {\n",
       "        text-align: right;\n",
       "    }\n",
       "</style>\n",
       "<table border=\"1\" class=\"dataframe\">\n",
       "  <thead>\n",
       "    <tr style=\"text-align: right;\">\n",
       "      <th></th>\n",
       "      <th>uid</th>\n",
       "      <th>iid</th>\n",
       "      <th>r_ui</th>\n",
       "      <th>est</th>\n",
       "    </tr>\n",
       "  </thead>\n",
       "  <tbody>\n",
       "    <tr>\n",
       "      <th>0</th>\n",
       "      <td>4.0</td>\n",
       "      <td>356</td>\n",
       "      <td>None</td>\n",
       "      <td>4.049350</td>\n",
       "    </tr>\n",
       "    <tr>\n",
       "      <th>1</th>\n",
       "      <td>7.0</td>\n",
       "      <td>356</td>\n",
       "      <td>None</td>\n",
       "      <td>4.047771</td>\n",
       "    </tr>\n",
       "    <tr>\n",
       "      <th>2</th>\n",
       "      <td>8.0</td>\n",
       "      <td>356</td>\n",
       "      <td>None</td>\n",
       "      <td>4.156136</td>\n",
       "    </tr>\n",
       "    <tr>\n",
       "      <th>3</th>\n",
       "      <td>9.0</td>\n",
       "      <td>356</td>\n",
       "      <td>None</td>\n",
       "      <td>4.071540</td>\n",
       "    </tr>\n",
       "    <tr>\n",
       "      <th>4</th>\n",
       "      <td>10.0</td>\n",
       "      <td>356</td>\n",
       "      <td>None</td>\n",
       "      <td>4.014795</td>\n",
       "    </tr>\n",
       "    <tr>\n",
       "      <th>...</th>\n",
       "      <td>...</td>\n",
       "      <td>...</td>\n",
       "      <td>...</td>\n",
       "      <td>...</td>\n",
       "    </tr>\n",
       "    <tr>\n",
       "      <th>97338</th>\n",
       "      <td>137665.0</td>\n",
       "      <td>4422</td>\n",
       "      <td>None</td>\n",
       "      <td>4.114758</td>\n",
       "    </tr>\n",
       "    <tr>\n",
       "      <th>97339</th>\n",
       "      <td>137851.0</td>\n",
       "      <td>4422</td>\n",
       "      <td>None</td>\n",
       "      <td>4.104296</td>\n",
       "    </tr>\n",
       "    <tr>\n",
       "      <th>97340</th>\n",
       "      <td>137904.0</td>\n",
       "      <td>4422</td>\n",
       "      <td>None</td>\n",
       "      <td>3.933818</td>\n",
       "    </tr>\n",
       "    <tr>\n",
       "      <th>97341</th>\n",
       "      <td>138325.0</td>\n",
       "      <td>4422</td>\n",
       "      <td>None</td>\n",
       "      <td>4.148356</td>\n",
       "    </tr>\n",
       "    <tr>\n",
       "      <th>97342</th>\n",
       "      <td>1339.0</td>\n",
       "      <td>130219</td>\n",
       "      <td>None</td>\n",
       "      <td>4.085729</td>\n",
       "    </tr>\n",
       "  </tbody>\n",
       "</table>\n",
       "<p>97343 rows × 4 columns</p>\n",
       "</div>"
      ],
      "text/plain": [
       "            uid     iid  r_ui       est\n",
       "0           4.0     356  None  4.049350\n",
       "1           7.0     356  None  4.047771\n",
       "2           8.0     356  None  4.156136\n",
       "3           9.0     356  None  4.071540\n",
       "4          10.0     356  None  4.014795\n",
       "...         ...     ...   ...       ...\n",
       "97338  137665.0    4422  None  4.114758\n",
       "97339  137851.0    4422  None  4.104296\n",
       "97340  137904.0    4422  None  3.933818\n",
       "97341  138325.0    4422  None  4.148356\n",
       "97342    1339.0  130219  None  4.085729\n",
       "\n",
       "[97343 rows x 4 columns]"
      ]
     },
     "execution_count": 67,
     "metadata": {},
     "output_type": "execute_result"
    }
   ],
   "source": [
    "pred_df"
   ]
  },
  {
   "cell_type": "code",
   "execution_count": 72,
   "metadata": {},
   "outputs": [
    {
     "data": {
      "text/html": [
       "<div>\n",
       "<style scoped>\n",
       "    .dataframe tbody tr th:only-of-type {\n",
       "        vertical-align: middle;\n",
       "    }\n",
       "\n",
       "    .dataframe tbody tr th {\n",
       "        vertical-align: top;\n",
       "    }\n",
       "\n",
       "    .dataframe thead th {\n",
       "        text-align: right;\n",
       "    }\n",
       "</style>\n",
       "<table border=\"1\" class=\"dataframe\">\n",
       "  <thead>\n",
       "    <tr style=\"text-align: right;\">\n",
       "      <th></th>\n",
       "      <th>est</th>\n",
       "    </tr>\n",
       "    <tr>\n",
       "      <th>uid</th>\n",
       "      <th></th>\n",
       "    </tr>\n",
       "  </thead>\n",
       "  <tbody>\n",
       "    <tr>\n",
       "      <th>1.0</th>\n",
       "      <td>4.162488</td>\n",
       "    </tr>\n",
       "    <tr>\n",
       "      <th>2.0</th>\n",
       "      <td>4.252716</td>\n",
       "    </tr>\n",
       "    <tr>\n",
       "      <th>3.0</th>\n",
       "      <td>4.237015</td>\n",
       "    </tr>\n",
       "    <tr>\n",
       "      <th>4.0</th>\n",
       "      <td>4.049350</td>\n",
       "    </tr>\n",
       "    <tr>\n",
       "      <th>7.0</th>\n",
       "      <td>4.047771</td>\n",
       "    </tr>\n",
       "    <tr>\n",
       "      <th>...</th>\n",
       "      <td>...</td>\n",
       "    </tr>\n",
       "    <tr>\n",
       "      <th>138474.0</th>\n",
       "      <td>4.120755</td>\n",
       "    </tr>\n",
       "    <tr>\n",
       "      <th>138483.0</th>\n",
       "      <td>4.114165</td>\n",
       "    </tr>\n",
       "    <tr>\n",
       "      <th>138484.0</th>\n",
       "      <td>4.116710</td>\n",
       "    </tr>\n",
       "    <tr>\n",
       "      <th>138486.0</th>\n",
       "      <td>4.066799</td>\n",
       "    </tr>\n",
       "    <tr>\n",
       "      <th>138493.0</th>\n",
       "      <td>4.080009</td>\n",
       "    </tr>\n",
       "  </tbody>\n",
       "</table>\n",
       "<p>76918 rows × 1 columns</p>\n",
       "</div>"
      ],
      "text/plain": [
       "               est\n",
       "uid               \n",
       "1.0       4.162488\n",
       "2.0       4.252716\n",
       "3.0       4.237015\n",
       "4.0       4.049350\n",
       "7.0       4.047771\n",
       "...            ...\n",
       "138474.0  4.120755\n",
       "138483.0  4.114165\n",
       "138484.0  4.116710\n",
       "138486.0  4.066799\n",
       "138493.0  4.080009\n",
       "\n",
       "[76918 rows x 1 columns]"
      ]
     },
     "execution_count": 72,
     "metadata": {},
     "output_type": "execute_result"
    }
   ],
   "source": [
    "pred_df.groupby(\"uid\").agg({\"est\":\"mean\"})"
   ]
  },
  {
   "cell_type": "code",
   "execution_count": null,
   "metadata": {},
   "outputs": [],
   "source": [
    "svd_model.test(test)"
   ]
  }
 ],
 "metadata": {
  "kernelspec": {
   "display_name": "Python 3",
   "language": "python",
   "name": "python3"
  },
  "language_info": {
   "codemirror_mode": {
    "name": "ipython",
    "version": 3
   },
   "file_extension": ".py",
   "mimetype": "text/x-python",
   "name": "python",
   "nbconvert_exporter": "python",
   "pygments_lexer": "ipython3",
   "version": "3.10.8"
  },
  "orig_nbformat": 4
 },
 "nbformat": 4,
 "nbformat_minor": 2
}
